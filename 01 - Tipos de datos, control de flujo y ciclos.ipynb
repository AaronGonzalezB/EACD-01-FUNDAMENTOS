{
 "cells": [
  {
   "cell_type": "markdown",
   "metadata": {},
   "source": [
    "# Tipos de datos, control de flujo, operadores y ciclos\n",
    "\n",
    "El objetivo de este cuaderno es explorar los tipos de datos básicos en python, así como la sintaxis para controlar el flujo de ejecución con condicionales y ciclos.\n",
    "\n",
    "Adicionalmente exploraremos algunas funcoines útiles de python.\n",
    "\n",
    "\n",
    "## Tipos de datos\n",
    "\n",
    "Se usan para representar valores que usamos en nuestros cálculos y procedimientos.\n",
    "\n",
    "`int` -> se usa para representar enteros"
   ]
  },
  {
   "cell_type": "code",
   "execution_count": 3,
   "metadata": {
    "slideshow": {
     "slide_type": "-"
    }
   },
   "outputs": [],
   "source": [
    "num_images = 20\n",
    "num_students = 26\n",
    "num_variables = 33\n",
    "dataset_size = 98234\n",
    "amount_of_money = -70"
   ]
  },
  {
   "cell_type": "markdown",
   "metadata": {},
   "source": [
    "---\n",
    "`float` -> se usa para representar números con decimales"
   ]
  },
  {
   "cell_type": "code",
   "execution_count": 5,
   "metadata": {},
   "outputs": [],
   "source": [
    "pi = 3.1416\n",
    "learning_rate = 0.0001\n",
    "scale_factor = 1.2\n",
    "probability_of_approval = 0.5\n",
    "probability_of_approval_after_studing = 0.9\n",
    "probability_of_approval_after_studing_harder = 0.99"
   ]
  },
  {
   "cell_type": "markdown",
   "metadata": {},
   "source": [
    "escribiendo esto caí en la cuenta de que los flotantes tienen un *método* para obtener el numerador y denominador de su representación:"
   ]
  },
  {
   "cell_type": "code",
   "execution_count": 33,
   "metadata": {},
   "outputs": [
    {
     "data": {
      "text/plain": [
       "(1, 2)"
      ]
     },
     "execution_count": 33,
     "metadata": {},
     "output_type": "execute_result"
    }
   ],
   "source": [
    "a = 0.5\n",
    "a.as_integer_ratio()"
   ]
  },
  {
   "cell_type": "markdown",
   "metadata": {},
   "source": [
    "por ahora, postergaremos la discussión sobre lo que es un método, pero usaremos algunos útiles mientras tanto."
   ]
  },
  {
   "cell_type": "markdown",
   "metadata": {},
   "source": [
    "---\n",
    "`bool` -> se usa para representar valores de falso y verdadero"
   ]
  },
  {
   "cell_type": "code",
   "execution_count": 8,
   "metadata": {},
   "outputs": [],
   "source": [
    "life_is_hard = True\n",
    "you_must_pause_and_think = True\n",
    "follow_your_instinct = False\n",
    "follow_data = True\n",
    "you_already_know_everything = False\n",
    "you_must_keep_learning = True\n",
    "money_is_all_that_matters = False\n",
    "helping_is_showing_answers = False\n",
    "you_can_pass_without_projects = False\n",
    "you_can_pass_without_comming_to_class = True"
   ]
  },
  {
   "cell_type": "markdown",
   "metadata": {},
   "source": [
    "---\n",
    "`str` -> se usa para representar texto "
   ]
  },
  {
   "cell_type": "code",
   "execution_count": 9,
   "metadata": {},
   "outputs": [],
   "source": [
    "name = \"Sebastián\"\n",
    "last_name = \"Rodríguez Colina\"\n",
    "activation = \"relu\"\n",
    "name_of_course = \"fundamentos de programacion para ciencia de datos\""
   ]
  },
  {
   "cell_type": "markdown",
   "metadata": {},
   "source": [
    "Python utliza codificación `utf-8` por defecto, lo cual permite representar muchos caracteres (como letas con tildes). No todos los sistemas utilizan el mismo tipo de codificación y es vale la pena que tengas esto presente. Te sugiero leer [Unicode & Character Encodings in Python: A Painless Guide](https://realpython.com/python-encodings-guide/), [Python String encode()](https://www.programiz.com/python-programming/methods/string/encode#:~:text=The%20string%20encode()%20method,sequence%20of%20Unicode%20code%20points.) y [Unicode HOWTO](https://docs.python.org/3/howto/unicode.html).\n",
    "\n",
    "Los tipos `str` vienen con unos métodos bastante útils para trabajar con ellos, acá unos ejemplos:"
   ]
  },
  {
   "cell_type": "code",
   "execution_count": 45,
   "metadata": {},
   "outputs": [
    {
     "data": {
      "text/plain": [
       "'SABER PROGRAMAR EN PYTHON ES MUY IMPORTANTE!'"
      ]
     },
     "execution_count": 45,
     "metadata": {},
     "output_type": "execute_result"
    }
   ],
   "source": [
    "\"saber programar en python es muy importante!\".upper()"
   ]
  },
  {
   "cell_type": "code",
   "execution_count": 37,
   "metadata": {},
   "outputs": [
    {
     "data": {
      "text/plain": [
       "'Sebastian'"
      ]
     },
     "execution_count": 37,
     "metadata": {},
     "output_type": "execute_result"
    }
   ],
   "source": [
    "\"sebastian\".capitalize()"
   ]
  },
  {
   "cell_type": "code",
   "execution_count": 38,
   "metadata": {},
   "outputs": [
    {
     "data": {
      "text/plain": [
       "2"
      ]
     },
     "execution_count": 38,
     "metadata": {},
     "output_type": "execute_result"
    }
   ],
   "source": [
    "\"otorrinolaringologo\".count(\"go\")"
   ]
  },
  {
   "cell_type": "code",
   "execution_count": 42,
   "metadata": {},
   "outputs": [
    {
     "data": {
      "text/plain": [
       "False"
      ]
     },
     "execution_count": 42,
     "metadata": {},
     "output_type": "execute_result"
    }
   ],
   "source": [
    "\"quiero saber si empiezo con [cualquier string]\".startswith(\"hola\")"
   ]
  },
  {
   "cell_type": "code",
   "execution_count": 43,
   "metadata": {},
   "outputs": [
    {
     "data": {
      "text/plain": [
       "True"
      ]
     },
     "execution_count": 43,
     "metadata": {},
     "output_type": "execute_result"
    }
   ],
   "source": [
    "\"Dr. Julanito\".startswith(\"Dr.\")"
   ]
  },
  {
   "cell_type": "code",
   "execution_count": 44,
   "metadata": {},
   "outputs": [
    {
     "data": {
      "text/plain": [
       "True"
      ]
     },
     "execution_count": 44,
     "metadata": {},
     "output_type": "execute_result"
    }
   ],
   "source": [
    "\"students paying attention: 20%\".endswith(\"%\")"
   ]
  },
  {
   "cell_type": "code",
   "execution_count": 48,
   "metadata": {},
   "outputs": [
    {
     "data": {
      "text/plain": [
       "True"
      ]
     },
     "execution_count": 48,
     "metadata": {},
     "output_type": "execute_result"
    }
   ],
   "source": [
    "\"str\".isidentifier()"
   ]
  },
  {
   "cell_type": "code",
   "execution_count": 52,
   "metadata": {},
   "outputs": [
    {
     "data": {
      "text/plain": [
       "True"
      ]
     },
     "execution_count": 52,
     "metadata": {},
     "output_type": "execute_result"
    }
   ],
   "source": [
    "\"333\".isdecimal()"
   ]
  },
  {
   "cell_type": "code",
   "execution_count": 53,
   "metadata": {},
   "outputs": [
    {
     "data": {
      "text/plain": [
       "['Nombre', 'Apellido1', 'Appellido2']"
      ]
     },
     "execution_count": 53,
     "metadata": {},
     "output_type": "execute_result"
    }
   ],
   "source": [
    "\"Nombre Apellido1 Appellido2\".split(\" \")"
   ]
  },
  {
   "cell_type": "markdown",
   "metadata": {},
   "source": [
    "los `str` también pueden ser indexados:"
   ]
  },
  {
   "cell_type": "code",
   "execution_count": 54,
   "metadata": {},
   "outputs": [
    {
     "data": {
      "text/plain": [
       "'has '"
      ]
     },
     "execution_count": 54,
     "metadata": {},
     "output_type": "execute_result"
    }
   ],
   "source": [
    "\"Muchas palabras \"[3:7]"
   ]
  },
  {
   "cell_type": "code",
   "execution_count": 55,
   "metadata": {},
   "outputs": [
    {
     "data": {
      "text/plain": [
       "'Muchas '"
      ]
     },
     "execution_count": 55,
     "metadata": {},
     "output_type": "execute_result"
    }
   ],
   "source": [
    "\"Muchas palabras \"[:7]"
   ]
  },
  {
   "cell_type": "code",
   "execution_count": 56,
   "metadata": {},
   "outputs": [
    {
     "data": {
      "text/plain": [
       "'Muchas pa'"
      ]
     },
     "execution_count": 56,
     "metadata": {},
     "output_type": "execute_result"
    }
   ],
   "source": [
    "\"Muchas palabras \"[:-7]"
   ]
  },
  {
   "cell_type": "code",
   "execution_count": 57,
   "metadata": {},
   "outputs": [
    {
     "data": {
      "text/plain": [
       "' sarbalap sahcuM'"
      ]
     },
     "execution_count": 57,
     "metadata": {},
     "output_type": "execute_result"
    }
   ],
   "source": [
    "\"Muchas palabras \"[::-1]"
   ]
  },
  {
   "cell_type": "markdown",
   "metadata": {},
   "source": [
    "[Revisa la documentación oficial para ver más](https://docs.python.org/3/library/stdtypes.html#string-methods)\n",
    "\n",
    "---\n",
    "`None` -> se usa para decir que no hay ningún valor asignado"
   ]
  },
  {
   "cell_type": "code",
   "execution_count": 10,
   "metadata": {},
   "outputs": [],
   "source": [
    "best_student = None\n",
    "worst_student = None"
   ]
  },
  {
   "cell_type": "markdown",
   "metadata": {},
   "source": [
    "## Estructuras de datos\n",
    "\n",
    "El término estructura de dato se usa para designar una forma de representar datos o valores en un programa. Usualmente hay varias estructuras de datos útiles para resolver un problema, pero hay unas en las que podrá ser más correcto o efficiente.\n",
    "\n",
    "Acá veremos lo más básico, puedes complementar con [Data Structures](https://www.geeksforgeeks.org/data-structures/)"
   ]
  },
  {
   "cell_type": "markdown",
   "metadata": {},
   "source": [
    "---\n",
    "`list` -> se usa para almacenar varios valores distintos (por ejemplo variables) en uno solo; con la possibilidad de agregar, remover y acceder a cada uno de los valores agregados. "
   ]
  },
  {
   "cell_type": "code",
   "execution_count": 11,
   "metadata": {},
   "outputs": [],
   "source": [
    "students = [\"santiaguito\", \"juliansito\", \"danilito\"]\n",
    "primes_up_to_20 = [2, 3, 5, 7, 11, 13, 17, 19]\n",
    "negatives_integers_greater_than_minus_5 = [-5, -4, -2, -1]\n",
    "collection_of_different_types = [None, 3, \"4\", 0.15]\n",
    "empty_list = []"
   ]
  },
  {
   "cell_type": "markdown",
   "metadata": {},
   "source": []
  },
  {
   "cell_type": "markdown",
   "metadata": {},
   "source": [
    "---\n",
    "`tuple` -> se usa para almacenar varios valores distintos (por ejemplo variables) en uno solo; no es posible agregar o remover elementos, pero es posible acceder a cada uno de ellos."
   ]
  },
  {
   "cell_type": "code",
   "execution_count": null,
   "metadata": {},
   "outputs": [],
   "source": []
  },
  {
   "cell_type": "markdown",
   "metadata": {},
   "source": [
    "`set` -> se usa para representar un conjunto; permite fácilmente preguntar si un elemento es parte del conjunto y otras operaciones propias de conjuntos."
   ]
  },
  {
   "cell_type": "code",
   "execution_count": null,
   "metadata": {},
   "outputs": [],
   "source": []
  },
  {
   "cell_type": "code",
   "execution_count": null,
   "metadata": {},
   "outputs": [],
   "source": []
  },
  {
   "cell_type": "markdown",
   "metadata": {},
   "source": [
    "`dict` -> "
   ]
  },
  {
   "cell_type": "code",
   "execution_count": null,
   "metadata": {},
   "outputs": [],
   "source": []
  },
  {
   "cell_type": "code",
   "execution_count": null,
   "metadata": {},
   "outputs": [],
   "source": []
  },
  {
   "cell_type": "markdown",
   "metadata": {},
   "source": [
    "`namedtuple` -> es como `tuple` pero los elementos se pueden acceder por nombre"
   ]
  },
  {
   "cell_type": "code",
   "execution_count": null,
   "metadata": {},
   "outputs": [],
   "source": []
  },
  {
   "cell_type": "code",
   "execution_count": null,
   "metadata": {},
   "outputs": [],
   "source": []
  },
  {
   "cell_type": "markdown",
   "metadata": {},
   "source": [
    "**Observaciones adicionales:**\n",
    "\n",
    "En este punto ya usamos el concepto de variable, simplemente es una manera de referenciar los valores con los que se ejecuta un programa. La variable es un espacio en la memoria del computador (usualmente RAM), diferente del disco duro. Entre más variables uses, y más valores contengan esas, más RAM usas.\n",
    "\n",
    "Las variables pueden escribirse con cualquier fomato (`comoEste` y `EsteOtro`), pero usualmente la comunidad de Python las escribe `en_el_formato_que_he_mostrado` y es bastante agradable seguir las convenciones cuando se habla de trabajo colaborativo; vale la pena mencionar, `esto` y `EstO` representan variables diferentes.\n",
    "\n",
    "Finalmente, con respecto a las variables, nunca podrás usar una [palabra reservada de Pyhton](https://www.programiz.com/python-programming/keyword-list), pero también se recomiendan no usar nombres propios de tipos de datos the pyhton.\n",
    "\n",
    "## Control de flujo\n",
    "\n",
    "Es lo que determina las condiciones para ejecutar un procedimiento. Por ejemplo:\n",
    "\n",
    "- podemos *ejecutar un procedimiento* llamado `party` solo si cada estudiante aprueba el 80% del curso.\n",
    "- si `dia sin iva` *y* `pandemia`, no planeaste bien las cosas.\n",
    "- si *no* voto políticos corruptos, no se roban mis impuestos.\n"
   ]
  },
  {
   "cell_type": "code",
   "execution_count": null,
   "metadata": {},
   "outputs": [],
   "source": []
  },
  {
   "cell_type": "code",
   "execution_count": null,
   "metadata": {},
   "outputs": [],
   "source": []
  },
  {
   "cell_type": "markdown",
   "metadata": {},
   "source": [
    "## Ciclos\n",
    "\n",
    "Se usan para ejecutar acciones repetidas con posibles criterios para detener las ejecuciones. Por ejemplo:\n",
    "\n",
    "- Manejar el carro a 60 kilometros por hora *mientras* no encuentre un semáforo en rojo.\n",
    "- Estudiar *hasta* que muera.\n",
    "- Contar *cada*  moneda en la alcancía hasta que termine.\n",
    "- Esforzarte *por siempre*."
   ]
  },
  {
   "cell_type": "code",
   "execution_count": null,
   "metadata": {},
   "outputs": [],
   "source": []
  }
 ],
 "metadata": {
  "kernelspec": {
   "display_name": "Python 3",
   "language": "python",
   "name": "python3"
  },
  "language_info": {
   "codemirror_mode": {
    "name": "ipython",
    "version": 3
   },
   "file_extension": ".py",
   "mimetype": "text/x-python",
   "name": "python",
   "nbconvert_exporter": "python",
   "pygments_lexer": "ipython3",
   "version": "3.7.4"
  }
 },
 "nbformat": 4,
 "nbformat_minor": 2
}
