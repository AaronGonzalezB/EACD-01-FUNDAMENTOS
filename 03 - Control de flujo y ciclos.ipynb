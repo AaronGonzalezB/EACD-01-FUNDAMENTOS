{
 "cells": [
  {
   "cell_type": "markdown",
   "metadata": {},
   "source": [
    "# Control de flujo y ciclos\n",
    "\n",
    "\n",
    "\n",
    "\n",
    "## Control de flujo\n",
    "\n",
    "Es lo que determina las condiciones para ejecutar un procedimiento. Por ejemplo:\n",
    "\n",
    "- podemos *ejecutar un procedimiento* llamado `party` solo si cada estudiante aprueba el 80% del curso.\n",
    "- si `dia sin iva` *y* `pandemia`, no planeaste bien las cosas.\n",
    "- si *no* voto políticos corruptos, no se roban mis impuestos.\n"
   ]
  },
  {
   "cell_type": "code",
   "execution_count": null,
   "metadata": {},
   "outputs": [],
   "source": []
  },
  {
   "cell_type": "code",
   "execution_count": null,
   "metadata": {},
   "outputs": [],
   "source": []
  },
  {
   "cell_type": "code",
   "execution_count": null,
   "metadata": {},
   "outputs": [],
   "source": []
  },
  {
   "cell_type": "code",
   "execution_count": null,
   "metadata": {},
   "outputs": [],
   "source": []
  },
  {
   "cell_type": "markdown",
   "metadata": {},
   "source": [
    "## Ciclos\n",
    "\n",
    "Se usan para ejecutar acciones repetidas con posibles criterios para detener las ejecuciones. Por ejemplo:\n",
    "\n",
    "- Manejar el carro a 60 kilometros por hora *mientras* no encuentre un semáforo en rojo.\n",
    "- Estudiar *hasta* que muera.\n",
    "- Contar *cada*  moneda en la alcancía hasta que termine.\n",
    "- Esforzarte *por siempre*."
   ]
  },
  {
   "cell_type": "code",
   "execution_count": null,
   "metadata": {},
   "outputs": [],
   "source": []
  }
 ],
 "metadata": {
  "kernelspec": {
   "display_name": "Python 3",
   "language": "python",
   "name": "python3"
  },
  "language_info": {
   "codemirror_mode": {
    "name": "ipython",
    "version": 3
   },
   "file_extension": ".py",
   "mimetype": "text/x-python",
   "name": "python",
   "nbconvert_exporter": "python",
   "pygments_lexer": "ipython3",
   "version": "3.7.4"
  }
 },
 "nbformat": 4,
 "nbformat_minor": 2
}
